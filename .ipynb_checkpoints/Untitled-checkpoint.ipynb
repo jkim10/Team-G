{
 "cells": [
  {
   "cell_type": "code",
   "execution_count": 99,
   "metadata": {},
   "outputs": [],
   "source": [
    "import pandas as pd\n",
    "import matplotlib.pyplot as plt\n",
    "import numpy as np\n",
    "import pysentiment as ps\n",
    "from vaderSentiment.vaderSentiment import SentimentIntensityAnalyzer \n",
    "from sklearn import preprocessing\n",
    "\n",
    "def sentiment_fun(var):\n",
    "    #pip install vaderSentiment\n",
    "    from vaderSentiment.vaderSentiment import SentimentIntensityAnalyzer \n",
    "    sentiment = SentimentIntensityAnalyzer() \n",
    "    out_score = sentiment.polarity_scores(var)\n",
    "    return out_score\n",
    "def sentiment_fun_2(var):\n",
    "    lm = ps.LM()\n",
    "    tokens = lm.tokenize(var)\n",
    "    return score\n",
    "    \n",
    "positive = n_positive * 100. / total\n",
    "negative = n_negative * 100. / total\n",
    "def normalize(arr):\n",
    "     return (arr-min(arr))/(max(arr)-min(arr))\n",
    "def normalize_2(arr):\n",
    "     return np.interp(arr, (arr.min(), arr.max()), (-1, +1))"
   ]
  },
  {
   "cell_type": "code",
   "execution_count": 34,
   "metadata": {},
   "outputs": [],
   "source": [
    "# Data Parse and Cleanup\n",
    "df = pd.read_csv(\"./doc.csv\")"
   ]
  },
  {
   "cell_type": "code",
   "execution_count": 4,
   "metadata": {},
   "outputs": [
    {
     "ename": "KeyboardInterrupt",
     "evalue": "",
     "output_type": "error",
     "traceback": [
      "\u001b[0;31m---------------------------------------------------------------------------\u001b[0m",
      "\u001b[0;31mKeyboardInterrupt\u001b[0m                         Traceback (most recent call last)",
      "\u001b[0;32m<ipython-input-4-84f27e9e9e80>\u001b[0m in \u001b[0;36m<module>\u001b[0;34m\u001b[0m\n\u001b[1;32m      1\u001b[0m \u001b[0;31m# Analyze\u001b[0m\u001b[0;34m\u001b[0m\u001b[0;34m\u001b[0m\u001b[0;34m\u001b[0m\u001b[0m\n\u001b[1;32m      2\u001b[0m \u001b[0manalyzer\u001b[0m \u001b[0;34m=\u001b[0m  \u001b[0mSentimentIntensityAnalyzer\u001b[0m\u001b[0;34m(\u001b[0m\u001b[0;34m)\u001b[0m\u001b[0;34m\u001b[0m\u001b[0;34m\u001b[0m\u001b[0m\n\u001b[0;32m----> 3\u001b[0;31m \u001b[0mout_score\u001b[0m \u001b[0;34m=\u001b[0m \u001b[0mdf\u001b[0m\u001b[0;34m[\u001b[0m\u001b[0;34m'Statement'\u001b[0m\u001b[0;34m]\u001b[0m\u001b[0;34m.\u001b[0m\u001b[0mapply\u001b[0m\u001b[0;34m(\u001b[0m\u001b[0msentiment_fun\u001b[0m\u001b[0;34m)\u001b[0m\u001b[0;34m\u001b[0m\u001b[0;34m\u001b[0m\u001b[0m\n\u001b[0m\u001b[1;32m      4\u001b[0m \u001b[0mdf\u001b[0m\u001b[0;34m[\u001b[0m\u001b[0;34m'Year'\u001b[0m\u001b[0;34m]\u001b[0m\u001b[0;34m=\u001b[0m \u001b[0mpd\u001b[0m\u001b[0;34m.\u001b[0m\u001b[0mto_datetime\u001b[0m\u001b[0;34m(\u001b[0m\u001b[0mdf\u001b[0m\u001b[0;34m[\u001b[0m\u001b[0;34m'Year'\u001b[0m\u001b[0;34m]\u001b[0m\u001b[0;34m)\u001b[0m\u001b[0;34m\u001b[0m\u001b[0;34m\u001b[0m\u001b[0m\n\u001b[1;32m      5\u001b[0m \u001b[0mdf\u001b[0m\u001b[0;34m.\u001b[0m\u001b[0mset_index\u001b[0m\u001b[0;34m(\u001b[0m\u001b[0;34m'Year'\u001b[0m\u001b[0;34m)\u001b[0m\u001b[0;34m\u001b[0m\u001b[0;34m\u001b[0m\u001b[0m\n",
      "\u001b[0;32m~/anaconda3/lib/python3.8/site-packages/pandas/core/series.py\u001b[0m in \u001b[0;36mapply\u001b[0;34m(self, func, convert_dtype, args, **kwds)\u001b[0m\n\u001b[1;32m   4198\u001b[0m             \u001b[0;32melse\u001b[0m\u001b[0;34m:\u001b[0m\u001b[0;34m\u001b[0m\u001b[0;34m\u001b[0m\u001b[0m\n\u001b[1;32m   4199\u001b[0m                 \u001b[0mvalues\u001b[0m \u001b[0;34m=\u001b[0m \u001b[0mself\u001b[0m\u001b[0;34m.\u001b[0m\u001b[0mastype\u001b[0m\u001b[0;34m(\u001b[0m\u001b[0mobject\u001b[0m\u001b[0;34m)\u001b[0m\u001b[0;34m.\u001b[0m\u001b[0m_values\u001b[0m\u001b[0;34m\u001b[0m\u001b[0;34m\u001b[0m\u001b[0m\n\u001b[0;32m-> 4200\u001b[0;31m                 \u001b[0mmapped\u001b[0m \u001b[0;34m=\u001b[0m \u001b[0mlib\u001b[0m\u001b[0;34m.\u001b[0m\u001b[0mmap_infer\u001b[0m\u001b[0;34m(\u001b[0m\u001b[0mvalues\u001b[0m\u001b[0;34m,\u001b[0m \u001b[0mf\u001b[0m\u001b[0;34m,\u001b[0m \u001b[0mconvert\u001b[0m\u001b[0;34m=\u001b[0m\u001b[0mconvert_dtype\u001b[0m\u001b[0;34m)\u001b[0m\u001b[0;34m\u001b[0m\u001b[0;34m\u001b[0m\u001b[0m\n\u001b[0m\u001b[1;32m   4201\u001b[0m \u001b[0;34m\u001b[0m\u001b[0m\n\u001b[1;32m   4202\u001b[0m         \u001b[0;32mif\u001b[0m \u001b[0mlen\u001b[0m\u001b[0;34m(\u001b[0m\u001b[0mmapped\u001b[0m\u001b[0;34m)\u001b[0m \u001b[0;32mand\u001b[0m \u001b[0misinstance\u001b[0m\u001b[0;34m(\u001b[0m\u001b[0mmapped\u001b[0m\u001b[0;34m[\u001b[0m\u001b[0;36m0\u001b[0m\u001b[0;34m]\u001b[0m\u001b[0;34m,\u001b[0m \u001b[0mSeries\u001b[0m\u001b[0;34m)\u001b[0m\u001b[0;34m:\u001b[0m\u001b[0;34m\u001b[0m\u001b[0;34m\u001b[0m\u001b[0m\n",
      "\u001b[0;32mpandas/_libs/lib.pyx\u001b[0m in \u001b[0;36mpandas._libs.lib.map_infer\u001b[0;34m()\u001b[0m\n",
      "\u001b[0;32m<ipython-input-1-5087520b2815>\u001b[0m in \u001b[0;36msentiment_fun\u001b[0;34m(var)\u001b[0m\n\u001b[1;32m      6\u001b[0m     \u001b[0;32mfrom\u001b[0m \u001b[0mvaderSentiment\u001b[0m\u001b[0;34m.\u001b[0m\u001b[0mvaderSentiment\u001b[0m \u001b[0;32mimport\u001b[0m \u001b[0mSentimentIntensityAnalyzer\u001b[0m\u001b[0;34m\u001b[0m\u001b[0;34m\u001b[0m\u001b[0m\n\u001b[1;32m      7\u001b[0m     \u001b[0msentiment\u001b[0m \u001b[0;34m=\u001b[0m \u001b[0mSentimentIntensityAnalyzer\u001b[0m\u001b[0;34m(\u001b[0m\u001b[0;34m)\u001b[0m\u001b[0;34m\u001b[0m\u001b[0;34m\u001b[0m\u001b[0m\n\u001b[0;32m----> 8\u001b[0;31m     \u001b[0mout_score\u001b[0m \u001b[0;34m=\u001b[0m \u001b[0msentiment\u001b[0m\u001b[0;34m.\u001b[0m\u001b[0mpolarity_scores\u001b[0m\u001b[0;34m(\u001b[0m\u001b[0mvar\u001b[0m\u001b[0;34m)\u001b[0m\u001b[0;34m\u001b[0m\u001b[0;34m\u001b[0m\u001b[0m\n\u001b[0m\u001b[1;32m      9\u001b[0m     \u001b[0;32mreturn\u001b[0m \u001b[0mout_score\u001b[0m\u001b[0;34m\u001b[0m\u001b[0;34m\u001b[0m\u001b[0m\n",
      "\u001b[0;32m~/anaconda3/lib/python3.8/site-packages/vaderSentiment/vaderSentiment.py\u001b[0m in \u001b[0;36mpolarity_scores\u001b[0;34m(self, text)\u001b[0m\n\u001b[1;32m    267\u001b[0m                 \u001b[0;32mcontinue\u001b[0m\u001b[0;34m\u001b[0m\u001b[0;34m\u001b[0m\u001b[0m\n\u001b[1;32m    268\u001b[0m \u001b[0;34m\u001b[0m\u001b[0m\n\u001b[0;32m--> 269\u001b[0;31m             \u001b[0msentiments\u001b[0m \u001b[0;34m=\u001b[0m \u001b[0mself\u001b[0m\u001b[0;34m.\u001b[0m\u001b[0msentiment_valence\u001b[0m\u001b[0;34m(\u001b[0m\u001b[0mvalence\u001b[0m\u001b[0;34m,\u001b[0m \u001b[0msentitext\u001b[0m\u001b[0;34m,\u001b[0m \u001b[0mitem\u001b[0m\u001b[0;34m,\u001b[0m \u001b[0mi\u001b[0m\u001b[0;34m,\u001b[0m \u001b[0msentiments\u001b[0m\u001b[0;34m)\u001b[0m\u001b[0;34m\u001b[0m\u001b[0;34m\u001b[0m\u001b[0m\n\u001b[0m\u001b[1;32m    270\u001b[0m \u001b[0;34m\u001b[0m\u001b[0m\n\u001b[1;32m    271\u001b[0m         \u001b[0msentiments\u001b[0m \u001b[0;34m=\u001b[0m \u001b[0mself\u001b[0m\u001b[0;34m.\u001b[0m\u001b[0m_but_check\u001b[0m\u001b[0;34m(\u001b[0m\u001b[0mwords_and_emoticons\u001b[0m\u001b[0;34m,\u001b[0m \u001b[0msentiments\u001b[0m\u001b[0;34m)\u001b[0m\u001b[0;34m\u001b[0m\u001b[0;34m\u001b[0m\u001b[0m\n",
      "\u001b[0;32m~/anaconda3/lib/python3.8/site-packages/vaderSentiment/vaderSentiment.py\u001b[0m in \u001b[0;36msentiment_valence\u001b[0;34m(self, valence, sentitext, item, i, sentiments)\u001b[0m\n\u001b[1;32m    310\u001b[0m                         \u001b[0ms\u001b[0m \u001b[0;34m=\u001b[0m \u001b[0ms\u001b[0m \u001b[0;34m*\u001b[0m \u001b[0;36m0.9\u001b[0m\u001b[0;34m\u001b[0m\u001b[0;34m\u001b[0m\u001b[0m\n\u001b[1;32m    311\u001b[0m                     \u001b[0mvalence\u001b[0m \u001b[0;34m=\u001b[0m \u001b[0mvalence\u001b[0m \u001b[0;34m+\u001b[0m \u001b[0ms\u001b[0m\u001b[0;34m\u001b[0m\u001b[0;34m\u001b[0m\u001b[0m\n\u001b[0;32m--> 312\u001b[0;31m                     \u001b[0mvalence\u001b[0m \u001b[0;34m=\u001b[0m \u001b[0mself\u001b[0m\u001b[0;34m.\u001b[0m\u001b[0m_negation_check\u001b[0m\u001b[0;34m(\u001b[0m\u001b[0mvalence\u001b[0m\u001b[0;34m,\u001b[0m \u001b[0mwords_and_emoticons\u001b[0m\u001b[0;34m,\u001b[0m \u001b[0mstart_i\u001b[0m\u001b[0;34m,\u001b[0m \u001b[0mi\u001b[0m\u001b[0;34m)\u001b[0m\u001b[0;34m\u001b[0m\u001b[0;34m\u001b[0m\u001b[0m\n\u001b[0m\u001b[1;32m    313\u001b[0m                     \u001b[0;32mif\u001b[0m \u001b[0mstart_i\u001b[0m \u001b[0;34m==\u001b[0m \u001b[0;36m2\u001b[0m\u001b[0;34m:\u001b[0m\u001b[0;34m\u001b[0m\u001b[0;34m\u001b[0m\u001b[0m\n\u001b[1;32m    314\u001b[0m                         \u001b[0mvalence\u001b[0m \u001b[0;34m=\u001b[0m \u001b[0mself\u001b[0m\u001b[0;34m.\u001b[0m\u001b[0m_special_idioms_check\u001b[0m\u001b[0;34m(\u001b[0m\u001b[0mvalence\u001b[0m\u001b[0;34m,\u001b[0m \u001b[0mwords_and_emoticons\u001b[0m\u001b[0;34m,\u001b[0m \u001b[0mi\u001b[0m\u001b[0;34m)\u001b[0m\u001b[0;34m\u001b[0m\u001b[0;34m\u001b[0m\u001b[0m\n",
      "\u001b[0;32m~/anaconda3/lib/python3.8/site-packages/vaderSentiment/vaderSentiment.py\u001b[0m in \u001b[0;36m_negation_check\u001b[0;34m(valence, words_and_emoticons, start_i, i)\u001b[0m\n\u001b[1;32m    400\u001b[0m     \u001b[0;34m@\u001b[0m\u001b[0mstaticmethod\u001b[0m\u001b[0;34m\u001b[0m\u001b[0;34m\u001b[0m\u001b[0m\n\u001b[1;32m    401\u001b[0m     \u001b[0;32mdef\u001b[0m \u001b[0m_negation_check\u001b[0m\u001b[0;34m(\u001b[0m\u001b[0mvalence\u001b[0m\u001b[0;34m,\u001b[0m \u001b[0mwords_and_emoticons\u001b[0m\u001b[0;34m,\u001b[0m \u001b[0mstart_i\u001b[0m\u001b[0;34m,\u001b[0m \u001b[0mi\u001b[0m\u001b[0;34m)\u001b[0m\u001b[0;34m:\u001b[0m\u001b[0;34m\u001b[0m\u001b[0;34m\u001b[0m\u001b[0m\n\u001b[0;32m--> 402\u001b[0;31m         \u001b[0mwords_and_emoticons_lower\u001b[0m \u001b[0;34m=\u001b[0m \u001b[0;34m[\u001b[0m\u001b[0mstr\u001b[0m\u001b[0;34m(\u001b[0m\u001b[0mw\u001b[0m\u001b[0;34m)\u001b[0m\u001b[0;34m.\u001b[0m\u001b[0mlower\u001b[0m\u001b[0;34m(\u001b[0m\u001b[0;34m)\u001b[0m \u001b[0;32mfor\u001b[0m \u001b[0mw\u001b[0m \u001b[0;32min\u001b[0m \u001b[0mwords_and_emoticons\u001b[0m\u001b[0;34m]\u001b[0m\u001b[0;34m\u001b[0m\u001b[0;34m\u001b[0m\u001b[0m\n\u001b[0m\u001b[1;32m    403\u001b[0m         \u001b[0;32mif\u001b[0m \u001b[0mstart_i\u001b[0m \u001b[0;34m==\u001b[0m \u001b[0;36m0\u001b[0m\u001b[0;34m:\u001b[0m\u001b[0;34m\u001b[0m\u001b[0;34m\u001b[0m\u001b[0m\n\u001b[1;32m    404\u001b[0m             \u001b[0;32mif\u001b[0m \u001b[0mnegated\u001b[0m\u001b[0;34m(\u001b[0m\u001b[0;34m[\u001b[0m\u001b[0mwords_and_emoticons_lower\u001b[0m\u001b[0;34m[\u001b[0m\u001b[0mi\u001b[0m \u001b[0;34m-\u001b[0m \u001b[0;34m(\u001b[0m\u001b[0mstart_i\u001b[0m \u001b[0;34m+\u001b[0m \u001b[0;36m1\u001b[0m\u001b[0;34m)\u001b[0m\u001b[0;34m]\u001b[0m\u001b[0;34m]\u001b[0m\u001b[0;34m)\u001b[0m\u001b[0;34m:\u001b[0m  \u001b[0;31m# 1 word preceding lexicon word (w/o stopwords)\u001b[0m\u001b[0;34m\u001b[0m\u001b[0;34m\u001b[0m\u001b[0m\n",
      "\u001b[0;32m~/anaconda3/lib/python3.8/site-packages/vaderSentiment/vaderSentiment.py\u001b[0m in \u001b[0;36m<listcomp>\u001b[0;34m(.0)\u001b[0m\n\u001b[1;32m    400\u001b[0m     \u001b[0;34m@\u001b[0m\u001b[0mstaticmethod\u001b[0m\u001b[0;34m\u001b[0m\u001b[0;34m\u001b[0m\u001b[0m\n\u001b[1;32m    401\u001b[0m     \u001b[0;32mdef\u001b[0m \u001b[0m_negation_check\u001b[0m\u001b[0;34m(\u001b[0m\u001b[0mvalence\u001b[0m\u001b[0;34m,\u001b[0m \u001b[0mwords_and_emoticons\u001b[0m\u001b[0;34m,\u001b[0m \u001b[0mstart_i\u001b[0m\u001b[0;34m,\u001b[0m \u001b[0mi\u001b[0m\u001b[0;34m)\u001b[0m\u001b[0;34m:\u001b[0m\u001b[0;34m\u001b[0m\u001b[0;34m\u001b[0m\u001b[0m\n\u001b[0;32m--> 402\u001b[0;31m         \u001b[0mwords_and_emoticons_lower\u001b[0m \u001b[0;34m=\u001b[0m \u001b[0;34m[\u001b[0m\u001b[0mstr\u001b[0m\u001b[0;34m(\u001b[0m\u001b[0mw\u001b[0m\u001b[0;34m)\u001b[0m\u001b[0;34m.\u001b[0m\u001b[0mlower\u001b[0m\u001b[0;34m(\u001b[0m\u001b[0;34m)\u001b[0m \u001b[0;32mfor\u001b[0m \u001b[0mw\u001b[0m \u001b[0;32min\u001b[0m \u001b[0mwords_and_emoticons\u001b[0m\u001b[0;34m]\u001b[0m\u001b[0;34m\u001b[0m\u001b[0;34m\u001b[0m\u001b[0m\n\u001b[0m\u001b[1;32m    403\u001b[0m         \u001b[0;32mif\u001b[0m \u001b[0mstart_i\u001b[0m \u001b[0;34m==\u001b[0m \u001b[0;36m0\u001b[0m\u001b[0;34m:\u001b[0m\u001b[0;34m\u001b[0m\u001b[0;34m\u001b[0m\u001b[0m\n\u001b[1;32m    404\u001b[0m             \u001b[0;32mif\u001b[0m \u001b[0mnegated\u001b[0m\u001b[0;34m(\u001b[0m\u001b[0;34m[\u001b[0m\u001b[0mwords_and_emoticons_lower\u001b[0m\u001b[0;34m[\u001b[0m\u001b[0mi\u001b[0m \u001b[0;34m-\u001b[0m \u001b[0;34m(\u001b[0m\u001b[0mstart_i\u001b[0m \u001b[0;34m+\u001b[0m \u001b[0;36m1\u001b[0m\u001b[0;34m)\u001b[0m\u001b[0;34m]\u001b[0m\u001b[0;34m]\u001b[0m\u001b[0;34m)\u001b[0m\u001b[0;34m:\u001b[0m  \u001b[0;31m# 1 word preceding lexicon word (w/o stopwords)\u001b[0m\u001b[0;34m\u001b[0m\u001b[0;34m\u001b[0m\u001b[0m\n",
      "\u001b[0;31mKeyboardInterrupt\u001b[0m: "
     ]
    }
   ],
   "source": [
    "# Analyze\n",
    "analyzer =  SentimentIntensityAnalyzer()\n",
    "out_score = df['Statement'].apply(sentiment_fun)\n",
    "df['Year']= pd.to_datetime(df['Year'])\n",
    "df.set_index('Year')"
   ]
  },
  {
   "cell_type": "code",
   "execution_count": null,
   "metadata": {},
   "outputs": [],
   "source": [
    "positive = []\n",
    "neu = []\n",
    "negative = []\n",
    "compound = []\n",
    "for x in out_score:\n",
    "    positive.append(x['pos'])\n",
    "    compound.append(x['compound'])\n",
    "    negative.append(x['neg'])\n",
    "    neu.append(x['neu'])\n",
    "df['compound'] = compound\n",
    "df['positive'] = positive\n",
    "df['negative'] = negative\n",
    "df['neu'] = neu"
   ]
  },
  {
   "cell_type": "code",
   "execution_count": 1,
   "metadata": {},
   "outputs": [
    {
     "ename": "NameError",
     "evalue": "name 'df' is not defined",
     "output_type": "error",
     "traceback": [
      "\u001b[0;31m---------------------------------------------------------------------------\u001b[0m",
      "\u001b[0;31mNameError\u001b[0m                                 Traceback (most recent call last)",
      "\u001b[0;32m<ipython-input-1-c2529220f117>\u001b[0m in \u001b[0;36m<module>\u001b[0;34m\u001b[0m\n\u001b[1;32m      1\u001b[0m \u001b[0;32mimport\u001b[0m \u001b[0mpickle\u001b[0m\u001b[0;34m\u001b[0m\u001b[0;34m\u001b[0m\u001b[0m\n\u001b[0;32m----> 2\u001b[0;31m \u001b[0mdf\u001b[0m\u001b[0;34m.\u001b[0m\u001b[0mto_pickle\u001b[0m\u001b[0;34m(\u001b[0m\u001b[0;34m\"sentiment.pkl\"\u001b[0m\u001b[0;34m)\u001b[0m\u001b[0;34m\u001b[0m\u001b[0;34m\u001b[0m\u001b[0m\n\u001b[0m",
      "\u001b[0;31mNameError\u001b[0m: name 'df' is not defined"
     ]
    }
   ],
   "source": [
    "import pickle\n",
    "df.to_pickle(\"sentiment.pkl\")"
   ]
  },
  {
   "cell_type": "code",
   "execution_count": 8,
   "metadata": {},
   "outputs": [],
   "source": [
    "import pickle\n",
    "df = pd.read_pickle(\"sentiment.pkl\")"
   ]
  },
  {
   "cell_type": "code",
   "execution_count": 45,
   "metadata": {},
   "outputs": [
    {
     "name": "stdout",
     "output_type": "stream",
     "text": [
      "[*********************100%***********************]  1 of 1 completed\n"
     ]
    },
    {
     "data": {
      "text/html": [
       "<div>\n",
       "<style scoped>\n",
       "    .dataframe tbody tr th:only-of-type {\n",
       "        vertical-align: middle;\n",
       "    }\n",
       "\n",
       "    .dataframe tbody tr th {\n",
       "        vertical-align: top;\n",
       "    }\n",
       "\n",
       "    .dataframe thead th {\n",
       "        text-align: right;\n",
       "    }\n",
       "</style>\n",
       "<table border=\"1\" class=\"dataframe\">\n",
       "  <thead>\n",
       "    <tr style=\"text-align: right;\">\n",
       "      <th></th>\n",
       "      <th>Open</th>\n",
       "      <th>High</th>\n",
       "      <th>Low</th>\n",
       "      <th>Close</th>\n",
       "      <th>Adj Close</th>\n",
       "      <th>Volume</th>\n",
       "    </tr>\n",
       "    <tr>\n",
       "      <th>Date</th>\n",
       "      <th></th>\n",
       "      <th></th>\n",
       "      <th></th>\n",
       "      <th></th>\n",
       "      <th></th>\n",
       "      <th></th>\n",
       "    </tr>\n",
       "  </thead>\n",
       "  <tbody>\n",
       "    <tr>\n",
       "      <th>1993-02-01</th>\n",
       "      <td>43.968750</td>\n",
       "      <td>44.250000</td>\n",
       "      <td>43.968750</td>\n",
       "      <td>44.250000</td>\n",
       "      <td>26.068277</td>\n",
       "      <td>480500</td>\n",
       "    </tr>\n",
       "    <tr>\n",
       "      <th>1993-02-02</th>\n",
       "      <td>44.218750</td>\n",
       "      <td>44.375000</td>\n",
       "      <td>44.125000</td>\n",
       "      <td>44.343750</td>\n",
       "      <td>26.123499</td>\n",
       "      <td>201300</td>\n",
       "    </tr>\n",
       "    <tr>\n",
       "      <th>1993-02-03</th>\n",
       "      <td>44.406250</td>\n",
       "      <td>44.843750</td>\n",
       "      <td>44.375000</td>\n",
       "      <td>44.812500</td>\n",
       "      <td>26.399649</td>\n",
       "      <td>529400</td>\n",
       "    </tr>\n",
       "    <tr>\n",
       "      <th>1993-02-04</th>\n",
       "      <td>44.968750</td>\n",
       "      <td>45.093750</td>\n",
       "      <td>44.468750</td>\n",
       "      <td>45.000000</td>\n",
       "      <td>26.510111</td>\n",
       "      <td>531500</td>\n",
       "    </tr>\n",
       "    <tr>\n",
       "      <th>1993-02-05</th>\n",
       "      <td>44.968750</td>\n",
       "      <td>45.062500</td>\n",
       "      <td>44.718750</td>\n",
       "      <td>44.968750</td>\n",
       "      <td>26.491711</td>\n",
       "      <td>492100</td>\n",
       "    </tr>\n",
       "    <tr>\n",
       "      <th>...</th>\n",
       "      <td>...</td>\n",
       "      <td>...</td>\n",
       "      <td>...</td>\n",
       "      <td>...</td>\n",
       "      <td>...</td>\n",
       "      <td>...</td>\n",
       "    </tr>\n",
       "    <tr>\n",
       "      <th>2021-02-12</th>\n",
       "      <td>389.850006</td>\n",
       "      <td>392.899994</td>\n",
       "      <td>389.769989</td>\n",
       "      <td>392.640015</td>\n",
       "      <td>391.358215</td>\n",
       "      <td>50505700</td>\n",
       "    </tr>\n",
       "    <tr>\n",
       "      <th>2021-02-16</th>\n",
       "      <td>393.959991</td>\n",
       "      <td>394.170013</td>\n",
       "      <td>391.529999</td>\n",
       "      <td>392.299988</td>\n",
       "      <td>391.019318</td>\n",
       "      <td>50972400</td>\n",
       "    </tr>\n",
       "    <tr>\n",
       "      <th>2021-02-17</th>\n",
       "      <td>390.420013</td>\n",
       "      <td>392.660004</td>\n",
       "      <td>389.329987</td>\n",
       "      <td>392.390015</td>\n",
       "      <td>391.109039</td>\n",
       "      <td>52290600</td>\n",
       "    </tr>\n",
       "    <tr>\n",
       "      <th>2021-02-18</th>\n",
       "      <td>389.589996</td>\n",
       "      <td>391.519989</td>\n",
       "      <td>387.739990</td>\n",
       "      <td>390.720001</td>\n",
       "      <td>389.444489</td>\n",
       "      <td>59712800</td>\n",
       "    </tr>\n",
       "    <tr>\n",
       "      <th>2021-02-19</th>\n",
       "      <td>392.070007</td>\n",
       "      <td>392.380005</td>\n",
       "      <td>389.549988</td>\n",
       "      <td>390.029999</td>\n",
       "      <td>388.756714</td>\n",
       "      <td>83241000</td>\n",
       "    </tr>\n",
       "  </tbody>\n",
       "</table>\n",
       "<p>7065 rows × 6 columns</p>\n",
       "</div>"
      ],
      "text/plain": [
       "                  Open        High         Low       Close   Adj Close  \\\n",
       "Date                                                                     \n",
       "1993-02-01   43.968750   44.250000   43.968750   44.250000   26.068277   \n",
       "1993-02-02   44.218750   44.375000   44.125000   44.343750   26.123499   \n",
       "1993-02-03   44.406250   44.843750   44.375000   44.812500   26.399649   \n",
       "1993-02-04   44.968750   45.093750   44.468750   45.000000   26.510111   \n",
       "1993-02-05   44.968750   45.062500   44.718750   44.968750   26.491711   \n",
       "...                ...         ...         ...         ...         ...   \n",
       "2021-02-12  389.850006  392.899994  389.769989  392.640015  391.358215   \n",
       "2021-02-16  393.959991  394.170013  391.529999  392.299988  391.019318   \n",
       "2021-02-17  390.420013  392.660004  389.329987  392.390015  391.109039   \n",
       "2021-02-18  389.589996  391.519989  387.739990  390.720001  389.444489   \n",
       "2021-02-19  392.070007  392.380005  389.549988  390.029999  388.756714   \n",
       "\n",
       "              Volume  \n",
       "Date                  \n",
       "1993-02-01    480500  \n",
       "1993-02-02    201300  \n",
       "1993-02-03    529400  \n",
       "1993-02-04    531500  \n",
       "1993-02-05    492100  \n",
       "...              ...  \n",
       "2021-02-12  50505700  \n",
       "2021-02-16  50972400  \n",
       "2021-02-17  52290600  \n",
       "2021-02-18  59712800  \n",
       "2021-02-19  83241000  \n",
       "\n",
       "[7065 rows x 6 columns]"
      ]
     },
     "execution_count": 45,
     "metadata": {},
     "output_type": "execute_result"
    }
   ],
   "source": [
    "# Get Stock Market Data\n",
    "import yfinance as yf\n",
    "stock_info = yf.download(\"SPY\", start=\"1993-02-01\", end=\"2021-02-20\")\n",
    "stock_info.index = pd.to_datetime(stock_info.index)\n",
    "stock_info"
   ]
  },
  {
   "cell_type": "code",
   "execution_count": 113,
   "metadata": {
    "scrolled": true
   },
   "outputs": [],
   "source": [
    "cumulative_sums = []\n",
    "window = 5\n",
    "# workaround for rolling widow\n",
    "for index, row in df.iterrows():\n",
    "    minutes_date = row['Year']\n",
    "    try:\n",
    "        start = stock_info.index.get_loc(minutes_date)\n",
    "    except:\n",
    "        start = stock_info.index.get_loc(minutes_date + pd.DateOffset(days=1))\n",
    "    stock_closing_sum = stock_info.iloc[start+window]['Close']\n",
    "    start_price = stock_info['Close'].iloc[start]\n",
    "    price_change = start_price - stock_closing_sum\n",
    "    cumulative_sums.append(price_change)\n",
    "cumulative_sums = np.array(cumulative_sums)\n",
    "df['change'] = cumulative_sums\n",
    "df['sent'] = df['positive'] - df['negative']\n",
    "df['normalized_compound'] = normalize(df['compound'].values)\n",
    "\n",
    "rolling = pd.DataFrame()\n",
    "rolling['normalized_compound'] = df['normalized_compound'].rolling(10).mean()\n",
    "rolling['change'] = df['change'].rolling(10).mean()\n",
    "rolling['Year'] = df['Year'].rolling(10)"
   ]
  },
  {
   "cell_type": "code",
   "execution_count": 114,
   "metadata": {},
   "outputs": [
    {
     "data": {
      "text/plain": [
       "<AxesSubplot:xlabel='Year'>"
      ]
     },
     "execution_count": 114,
     "metadata": {},
     "output_type": "execute_result"
    },
    {
     "data": {
      "image/png": "[encoded data removed]",
      "text/plain": [
       "<Figure size 432x288 with 1 Axes>"
      ]
     },
     "metadata": {
      "needs_background": "light"
     },
     "output_type": "display_data"
    }
   ],
   "source": [
    "rolling.plot( x='Year', y='normalized_compound')"
   ]
  },
  {
   "cell_type": "code",
   "execution_count": 108,
   "metadata": {},
   "outputs": [
    {
     "data": {
      "text/plain": [
       "<AxesSubplot:xlabel='Year'>"
      ]
     },
     "execution_count": 108,
     "metadata": {},
     "output_type": "execute_result"
    },
    {
     "data": {
      "image/png": "[encoded data removed]",
      "text/plain": [
       "<Figure size 432x288 with 1 Axes>"
      ]
     },
     "metadata": {
      "needs_background": "light"
     },
     "output_type": "display_data"
    }
   ],
   "source": [
    "rolling.plot( x='Year', y='change')"
   ]
  },
  {
   "cell_type": "code",
   "execution_count": 109,
   "metadata": {},
   "outputs": [
    {
     "data": {
      "text/html": [
       "<div>\n",
       "<style scoped>\n",
       "    .dataframe tbody tr th:only-of-type {\n",
       "        vertical-align: middle;\n",
       "    }\n",
       "\n",
       "    .dataframe tbody tr th {\n",
       "        vertical-align: top;\n",
       "    }\n",
       "\n",
       "    .dataframe thead th {\n",
       "        text-align: right;\n",
       "    }\n",
       "</style>\n",
       "<table border=\"1\" class=\"dataframe\">\n",
       "  <thead>\n",
       "    <tr style=\"text-align: right;\">\n",
       "      <th></th>\n",
       "      <th>Year</th>\n",
       "      <th>Statement</th>\n",
       "      <th>compound</th>\n",
       "      <th>positive</th>\n",
       "      <th>negative</th>\n",
       "      <th>neu</th>\n",
       "      <th>Change</th>\n",
       "      <th>normalized_change</th>\n",
       "      <th>sent</th>\n",
       "      <th>change</th>\n",
       "    </tr>\n",
       "  </thead>\n",
       "  <tbody>\n",
       "    <tr>\n",
       "      <th>0</th>\n",
       "      <td>1993-02-03</td>\n",
       "      <td>A meeting of the Federal Open Market Committee...</td>\n",
       "      <td>0.9998</td>\n",
       "      <td>0.105</td>\n",
       "      <td>0.052</td>\n",
       "      <td>0.843</td>\n",
       "      <td>0.093750</td>\n",
       "      <td>0.005547</td>\n",
       "      <td>0.053</td>\n",
       "      <td>0.093750</td>\n",
       "    </tr>\n",
       "    <tr>\n",
       "      <th>1</th>\n",
       "      <td>1993-03-23</td>\n",
       "      <td>A meeting of the Federal Open Market Committee...</td>\n",
       "      <td>0.9997</td>\n",
       "      <td>0.097</td>\n",
       "      <td>0.050</td>\n",
       "      <td>0.853</td>\n",
       "      <td>-0.343750</td>\n",
       "      <td>-0.020340</td>\n",
       "      <td>0.047</td>\n",
       "      <td>-0.343750</td>\n",
       "    </tr>\n",
       "    <tr>\n",
       "      <th>2</th>\n",
       "      <td>1993-05-18</td>\n",
       "      <td>A meeting of the Federal Open Market Committee...</td>\n",
       "      <td>0.9997</td>\n",
       "      <td>0.106</td>\n",
       "      <td>0.061</td>\n",
       "      <td>0.833</td>\n",
       "      <td>-0.906250</td>\n",
       "      <td>-0.053624</td>\n",
       "      <td>0.045</td>\n",
       "      <td>-0.906250</td>\n",
       "    </tr>\n",
       "    <tr>\n",
       "      <th>3</th>\n",
       "      <td>1993-07-07</td>\n",
       "      <td>A meeting of the Federal Open Market Committee...</td>\n",
       "      <td>0.9990</td>\n",
       "      <td>0.053</td>\n",
       "      <td>0.013</td>\n",
       "      <td>0.934</td>\n",
       "      <td>-0.718750</td>\n",
       "      <td>-0.042530</td>\n",
       "      <td>0.040</td>\n",
       "      <td>-0.718750</td>\n",
       "    </tr>\n",
       "    <tr>\n",
       "      <th>4</th>\n",
       "      <td>1993-08-17</td>\n",
       "      <td>A meeting of the Federal Open Market Committee...</td>\n",
       "      <td>0.9998</td>\n",
       "      <td>0.107</td>\n",
       "      <td>0.052</td>\n",
       "      <td>0.841</td>\n",
       "      <td>-0.687500</td>\n",
       "      <td>-0.040680</td>\n",
       "      <td>0.055</td>\n",
       "      <td>-0.687500</td>\n",
       "    </tr>\n",
       "    <tr>\n",
       "      <th>...</th>\n",
       "      <td>...</td>\n",
       "      <td>...</td>\n",
       "      <td>...</td>\n",
       "      <td>...</td>\n",
       "      <td>...</td>\n",
       "      <td>...</td>\n",
       "      <td>...</td>\n",
       "      <td>...</td>\n",
       "      <td>...</td>\n",
       "      <td>...</td>\n",
       "    </tr>\n",
       "    <tr>\n",
       "      <th>211</th>\n",
       "      <td>2020-07-29</td>\n",
       "      <td>The Federal Reserve, the central bank of the U...</td>\n",
       "      <td>0.9999</td>\n",
       "      <td>0.088</td>\n",
       "      <td>0.009</td>\n",
       "      <td>0.903</td>\n",
       "      <td>-6.989990</td>\n",
       "      <td>-0.413609</td>\n",
       "      <td>0.079</td>\n",
       "      <td>-6.989990</td>\n",
       "    </tr>\n",
       "    <tr>\n",
       "      <th>212</th>\n",
       "      <td>2020-09-16</td>\n",
       "      <td>The Federal Reserve, the central bank of the U...</td>\n",
       "      <td>0.9999</td>\n",
       "      <td>0.123</td>\n",
       "      <td>0.035</td>\n",
       "      <td>0.842</td>\n",
       "      <td>16.179993</td>\n",
       "      <td>0.957395</td>\n",
       "      <td>0.088</td>\n",
       "      <td>16.179993</td>\n",
       "    </tr>\n",
       "    <tr>\n",
       "      <th>213</th>\n",
       "      <td>2020-11-05</td>\n",
       "      <td>The Federal Reserve, the central bank of the U...</td>\n",
       "      <td>0.9996</td>\n",
       "      <td>0.088</td>\n",
       "      <td>0.039</td>\n",
       "      <td>0.873</td>\n",
       "      <td>-2.970001</td>\n",
       "      <td>-0.175740</td>\n",
       "      <td>0.049</td>\n",
       "      <td>-2.970001</td>\n",
       "    </tr>\n",
       "    <tr>\n",
       "      <th>214</th>\n",
       "      <td>2020-12-16</td>\n",
       "      <td>The Federal Reserve, the central bank of the U...</td>\n",
       "      <td>0.9998</td>\n",
       "      <td>0.101</td>\n",
       "      <td>0.047</td>\n",
       "      <td>0.852</td>\n",
       "      <td>2.600006</td>\n",
       "      <td>0.153846</td>\n",
       "      <td>0.054</td>\n",
       "      <td>2.600006</td>\n",
       "    </tr>\n",
       "    <tr>\n",
       "      <th>215</th>\n",
       "      <td>2021-01-27</td>\n",
       "      <td>The Federal Reserve, the central bank of the U...</td>\n",
       "      <td>0.9999</td>\n",
       "      <td>0.088</td>\n",
       "      <td>0.009</td>\n",
       "      <td>0.903</td>\n",
       "      <td>-7.440002</td>\n",
       "      <td>-0.440237</td>\n",
       "      <td>0.079</td>\n",
       "      <td>-7.440002</td>\n",
       "    </tr>\n",
       "  </tbody>\n",
       "</table>\n",
       "<p>216 rows × 10 columns</p>\n",
       "</div>"
      ],
      "text/plain": [
       "          Year                                          Statement  compound  \\\n",
       "0   1993-02-03  A meeting of the Federal Open Market Committee...    0.9998   \n",
       "1   1993-03-23  A meeting of the Federal Open Market Committee...    0.9997   \n",
       "2   1993-05-18  A meeting of the Federal Open Market Committee...    0.9997   \n",
       "3   1993-07-07  A meeting of the Federal Open Market Committee...    0.9990   \n",
       "4   1993-08-17  A meeting of the Federal Open Market Committee...    0.9998   \n",
       "..         ...                                                ...       ...   \n",
       "211 2020-07-29  The Federal Reserve, the central bank of the U...    0.9999   \n",
       "212 2020-09-16  The Federal Reserve, the central bank of the U...    0.9999   \n",
       "213 2020-11-05  The Federal Reserve, the central bank of the U...    0.9996   \n",
       "214 2020-12-16  The Federal Reserve, the central bank of the U...    0.9998   \n",
       "215 2021-01-27  The Federal Reserve, the central bank of the U...    0.9999   \n",
       "\n",
       "     positive  negative    neu     Change  normalized_change   sent     change  \n",
       "0       0.105     0.052  0.843   0.093750           0.005547  0.053   0.093750  \n",
       "1       0.097     0.050  0.853  -0.343750          -0.020340  0.047  -0.343750  \n",
       "2       0.106     0.061  0.833  -0.906250          -0.053624  0.045  -0.906250  \n",
       "3       0.053     0.013  0.934  -0.718750          -0.042530  0.040  -0.718750  \n",
       "4       0.107     0.052  0.841  -0.687500          -0.040680  0.055  -0.687500  \n",
       "..        ...       ...    ...        ...                ...    ...        ...  \n",
       "211     0.088     0.009  0.903  -6.989990          -0.413609  0.079  -6.989990  \n",
       "212     0.123     0.035  0.842  16.179993           0.957395  0.088  16.179993  \n",
       "213     0.088     0.039  0.873  -2.970001          -0.175740  0.049  -2.970001  \n",
       "214     0.101     0.047  0.852   2.600006           0.153846  0.054   2.600006  \n",
       "215     0.088     0.009  0.903  -7.440002          -0.440237  0.079  -7.440002  \n",
       "\n",
       "[216 rows x 10 columns]"
      ]
     },
     "execution_count": 109,
     "metadata": {},
     "output_type": "execute_result"
    }
   ],
   "source": [
    "df"
   ]
  },
  {
   "cell_type": "code",
   "execution_count": 23,
   "metadata": {},
   "outputs": [
    {
     "data": {
      "text/plain": [
       "{'neg': 0.05, 'neu': 0.849, 'pos': 0.101, 'compound': 0.9998}"
      ]
     },
     "execution_count": 23,
     "metadata": {},
     "output_type": "execute_result"
    }
   ],
   "source": [
    "a = df.iloc[1]['Statement']\n",
    "sentiment_fun(a)"
   ]
  },
  {
   "cell_type": "code",
   "execution_count": 116,
   "metadata": {},
   "outputs": [
    {
     "data": {
      "text/plain": [
       "array([0.99994989, 0.99989977, 0.99989977, 0.99954899, 0.99994989,\n",
       "       0.99994989, 1.        , 1.        , 0.99994989, 0.99994989,\n",
       "       0.99994989, 0.99994989, 0.99994989, 1.        , 1.        ,\n",
       "       1.        , 0.99994989, 0.99979955, 0.99994989, 1.        ,\n",
       "       1.        , 1.        , 0.99984966, 1.        , 1.        ,\n",
       "       0.99979955, 0.99974944, 0.99989977, 0.99979955, 0.99969932,\n",
       "       0.99989977, 0.99994989, 0.99989977, 1.        , 0.99989977,\n",
       "       0.99979955, 0.99994989, 0.99994989, 0.99979955, 0.99994989,\n",
       "       0.99994989, 0.99994989, 0.99979955, 0.99864696, 0.99979955,\n",
       "       0.9991982 , 0.99629166, 0.99964921, 0.99989977, 0.9991982 ,\n",
       "       0.99994989, 0.99994989, 0.99994989, 1.        , 0.99994989,\n",
       "       0.99994989, 0.99984966, 1.        , 1.        , 0.99989977,\n",
       "       0.99994989, 0.99994989, 0.99984966, 0.99994989, 0.99994989,\n",
       "       0.99964921, 0.99964921, 0.99854673, 0.989777  , 0.99854673,\n",
       "       0.97078426, 0.99749436, 0.99954899, 0.99994989, 0.99984966,\n",
       "       0.99994989, 0.99994989, 0.99989977, 0.99994989, 0.99994989,\n",
       "       1.        , 0.99969932, 0.99969932, 0.9995991 , 0.99994989,\n",
       "       0.99994989, 0.99989977, 0.99929842, 0.99989977, 0.99994989,\n",
       "       1.        , 1.        , 0.99994989, 1.        , 0.99994989,\n",
       "       1.        , 0.99989977, 1.        , 0.99994989, 0.99994989,\n",
       "       0.99994989, 1.        , 0.99984966, 1.        , 1.        ,\n",
       "       0.99989977, 0.99994989, 1.        , 1.        , 0.99994989,\n",
       "       0.99984966, 0.99994989, 0.99989977, 1.        , 0.99994989,\n",
       "       0.99994989, 0.99994989, 1.        , 1.        , 0.99994989,\n",
       "       0.99984966, 0.99989977, 0.99994989, 0.99994989, 0.99984966,\n",
       "       0.99994989, 0.99984966, 0.99994989, 0.        , 0.99964921,\n",
       "       0.99989977, 0.99984966, 0.99994989, 1.        , 0.99994989,\n",
       "       0.99994989, 1.        , 1.        , 1.        , 1.        ,\n",
       "       0.99984966, 0.99989977, 0.99994989, 0.99944876, 1.        ,\n",
       "       0.99964921, 0.99989977, 1.        , 0.9995991 , 0.99989977,\n",
       "       0.99969932, 0.99979955, 0.99994989, 0.99994989, 0.99974944,\n",
       "       0.99989977, 0.99989977, 0.99964921, 0.99994989, 0.99974944,\n",
       "       1.        , 1.        , 1.        , 1.        , 0.99994989,\n",
       "       1.        , 0.99994989, 1.        , 0.99994989, 0.99984966,\n",
       "       0.99994989, 0.99994989, 0.99994989, 1.        , 1.        ,\n",
       "       1.        , 0.99994989, 0.99974944, 1.        , 0.99989977,\n",
       "       0.99994989, 0.99994989, 0.99994989, 1.        , 0.99994989,\n",
       "       0.99979955, 0.99989977, 0.99994989, 0.99989977, 0.99989977,\n",
       "       0.99994989, 0.99909797, 0.99989977, 0.99994989, 0.99994989,\n",
       "       1.        , 0.99994989, 0.99994989, 0.99989977, 0.99989977,\n",
       "       0.99989977, 0.99979955, 0.99979955, 0.99954899, 0.99849662,\n",
       "       0.99979955, 0.99974944, 1.        , 0.99984966, 0.99343523,\n",
       "       0.99984966, 1.        , 1.        , 0.99984966, 0.99994989,\n",
       "       1.        ])"
      ]
     },
     "execution_count": 116,
     "metadata": {},
     "output_type": "execute_result"
    }
   ],
   "source": [
    "normalize(df['compound'].values)"
   ]
  },
  {
   "cell_type": "code",
   "execution_count": null,
   "metadata": {},
   "outputs": [],
   "source": []
  }
 ],
 "metadata": {
  "kernelspec": {
   "display_name": "Python 3",
   "language": "python",
   "name": "python3"
  },
  "language_info": {
   "codemirror_mode": {
    "name": "ipython",
    "version": 3
   },
   "file_extension": ".py",
   "mimetype": "text/x-python",
   "name": "python",
   "nbconvert_exporter": "python",
   "pygments_lexer": "ipython3",
   "version": "3.8.5"
  }
 },
 "nbformat": 4,
 "nbformat_minor": 4
}
